{
 "cells": [
  {
   "cell_type": "markdown",
   "id": "35f56f92",
   "metadata": {},
   "source": [
    "# MST Day 01 Introduction to Python"
   ]
  },
  {
   "cell_type": "code",
   "execution_count": 51,
   "id": "a0a9399a",
   "metadata": {},
   "outputs": [
    {
     "name": "stdout",
     "output_type": "stream",
     "text": [
      "Welcome to Python MST Course! \n"
     ]
    }
   ],
   "source": [
    "print(\"Welcome to Python MST Course! \")"
   ]
  },
  {
   "cell_type": "code",
   "execution_count": 52,
   "id": "ea19b194",
   "metadata": {},
   "outputs": [
    {
     "name": "stdout",
     "output_type": "stream",
     "text": [
      "Welcome to \n",
      "the world of Python\n"
     ]
    }
   ],
   "source": [
    "print('Welcome to ')\n",
    "print('the world of Python')"
   ]
  },
  {
   "cell_type": "code",
   "execution_count": 53,
   "id": "0547c1d5",
   "metadata": {},
   "outputs": [
    {
     "name": "stdout",
     "output_type": "stream",
     "text": [
      "Welcome to the world of Python!\n"
     ]
    }
   ],
   "source": [
    "print('Welcome to ',end='')\n",
    "print('the world of Python!')"
   ]
  },
  {
   "cell_type": "code",
   "execution_count": 54,
   "id": "adafb0bd",
   "metadata": {},
   "outputs": [],
   "source": [
    "age = 21\n",
    "name = 'Sree'\n",
    "place= 'Cochin'"
   ]
  },
  {
   "cell_type": "code",
   "execution_count": 55,
   "id": "fbd450ea",
   "metadata": {},
   "outputs": [
    {
     "name": "stdout",
     "output_type": "stream",
     "text": [
      "21\n"
     ]
    }
   ],
   "source": [
    "print(age)"
   ]
  },
  {
   "cell_type": "code",
   "execution_count": 56,
   "id": "04760e67",
   "metadata": {},
   "outputs": [
    {
     "name": "stdout",
     "output_type": "stream",
     "text": [
      "Sree\n"
     ]
    }
   ],
   "source": [
    "print(name)"
   ]
  },
  {
   "cell_type": "code",
   "execution_count": 57,
   "id": "4b65b0ee",
   "metadata": {},
   "outputs": [
    {
     "name": "stdout",
     "output_type": "stream",
     "text": [
      "Cochin\n"
     ]
    }
   ],
   "source": [
    "print(place)"
   ]
  },
  {
   "cell_type": "code",
   "execution_count": 58,
   "id": "a5c99971",
   "metadata": {},
   "outputs": [
    {
     "name": "stdout",
     "output_type": "stream",
     "text": [
      "Name is  Sree and age is  21\n"
     ]
    }
   ],
   "source": [
    "print('Name is ',name , 'and age is ',age)"
   ]
  },
  {
   "cell_type": "code",
   "execution_count": 59,
   "id": "5c075c9c",
   "metadata": {},
   "outputs": [
    {
     "name": "stdout",
     "output_type": "stream",
     "text": [
      "Name is Sreeand age is  21\n"
     ]
    }
   ],
   "source": [
    "print('Name is '+name+'and age is ',age)"
   ]
  },
  {
   "cell_type": "code",
   "execution_count": 60,
   "id": "d1e9e54f",
   "metadata": {},
   "outputs": [],
   "source": [
    "height = 99.3"
   ]
  },
  {
   "cell_type": "code",
   "execution_count": 61,
   "id": "df8db074",
   "metadata": {},
   "outputs": [
    {
     "data": {
      "text/plain": [
       "21"
      ]
     },
     "execution_count": 61,
     "metadata": {},
     "output_type": "execute_result"
    }
   ],
   "source": [
    "age"
   ]
  },
  {
   "cell_type": "code",
   "execution_count": 62,
   "id": "535b9749",
   "metadata": {},
   "outputs": [],
   "source": [
    "_age = 31"
   ]
  },
  {
   "cell_type": "code",
   "execution_count": 63,
   "id": "50a45591",
   "metadata": {},
   "outputs": [
    {
     "data": {
      "text/plain": [
       "31"
      ]
     },
     "execution_count": 63,
     "metadata": {},
     "output_type": "execute_result"
    }
   ],
   "source": [
    "_age"
   ]
  },
  {
   "cell_type": "code",
   "execution_count": 64,
   "id": "c26668e7",
   "metadata": {},
   "outputs": [],
   "source": [
    "age1 = 31"
   ]
  },
  {
   "cell_type": "code",
   "execution_count": 65,
   "id": "885bd16b",
   "metadata": {},
   "outputs": [
    {
     "data": {
      "text/plain": [
       "31"
      ]
     },
     "execution_count": 65,
     "metadata": {},
     "output_type": "execute_result"
    }
   ],
   "source": [
    "age1"
   ]
  },
  {
   "cell_type": "code",
   "execution_count": 66,
   "id": "afd8ccc4",
   "metadata": {},
   "outputs": [],
   "source": [
    "_1=25"
   ]
  },
  {
   "cell_type": "code",
   "execution_count": 67,
   "id": "5272fce2",
   "metadata": {},
   "outputs": [
    {
     "data": {
      "text/plain": [
       "25"
      ]
     },
     "execution_count": 67,
     "metadata": {},
     "output_type": "execute_result"
    }
   ],
   "source": [
    "_1"
   ]
  },
  {
   "cell_type": "code",
   "execution_count": 68,
   "id": "c7c362dd",
   "metadata": {},
   "outputs": [],
   "source": [
    "a=3\n",
    "b=4\n",
    "sum=a+b"
   ]
  },
  {
   "cell_type": "code",
   "execution_count": 69,
   "id": "c5c2bb4e",
   "metadata": {},
   "outputs": [
    {
     "data": {
      "text/plain": [
       "7"
      ]
     },
     "execution_count": 69,
     "metadata": {},
     "output_type": "execute_result"
    }
   ],
   "source": [
    "sum"
   ]
  },
  {
   "cell_type": "markdown",
   "id": "684d8282",
   "metadata": {},
   "source": [
    "# Data types"
   ]
  },
  {
   "cell_type": "code",
   "execution_count": 70,
   "id": "f5bf74ad",
   "metadata": {},
   "outputs": [],
   "source": [
    "a = 5"
   ]
  },
  {
   "cell_type": "code",
   "execution_count": 71,
   "id": "c0b98c6b",
   "metadata": {},
   "outputs": [
    {
     "data": {
      "text/plain": [
       "5"
      ]
     },
     "execution_count": 71,
     "metadata": {},
     "output_type": "execute_result"
    }
   ],
   "source": [
    "a"
   ]
  },
  {
   "cell_type": "code",
   "execution_count": 72,
   "id": "9673a641",
   "metadata": {},
   "outputs": [
    {
     "data": {
      "text/plain": [
       "2787945376176"
      ]
     },
     "execution_count": 72,
     "metadata": {},
     "output_type": "execute_result"
    }
   ],
   "source": [
    "id(a)"
   ]
  },
  {
   "cell_type": "code",
   "execution_count": 73,
   "id": "ad341399",
   "metadata": {},
   "outputs": [
    {
     "data": {
      "text/plain": [
       "int"
      ]
     },
     "execution_count": 73,
     "metadata": {},
     "output_type": "execute_result"
    }
   ],
   "source": [
    "type(a)"
   ]
  },
  {
   "cell_type": "code",
   "execution_count": 74,
   "id": "b7634588",
   "metadata": {},
   "outputs": [],
   "source": [
    "b = 5.0"
   ]
  },
  {
   "cell_type": "code",
   "execution_count": 75,
   "id": "906e7fe0",
   "metadata": {},
   "outputs": [
    {
     "data": {
      "text/plain": [
       "float"
      ]
     },
     "execution_count": 75,
     "metadata": {},
     "output_type": "execute_result"
    }
   ],
   "source": [
    "type(b)"
   ]
  },
  {
   "cell_type": "code",
   "execution_count": 76,
   "id": "a0070ee8",
   "metadata": {},
   "outputs": [],
   "source": [
    "c = 4+3j"
   ]
  },
  {
   "cell_type": "code",
   "execution_count": 77,
   "id": "d2f1a1b4",
   "metadata": {},
   "outputs": [
    {
     "data": {
      "text/plain": [
       "complex"
      ]
     },
     "execution_count": 77,
     "metadata": {},
     "output_type": "execute_result"
    }
   ],
   "source": [
    "type(c)"
   ]
  },
  {
   "cell_type": "code",
   "execution_count": 78,
   "id": "fba1b68a",
   "metadata": {},
   "outputs": [],
   "source": [
    "d = complex(a,b)"
   ]
  },
  {
   "cell_type": "code",
   "execution_count": 29,
   "id": "27b31bfb",
   "metadata": {},
   "outputs": [
    {
     "data": {
      "text/plain": [
       "(5+5j)"
      ]
     },
     "execution_count": 29,
     "metadata": {},
     "output_type": "execute_result"
    }
   ],
   "source": [
    "d"
   ]
  },
  {
   "cell_type": "code",
   "execution_count": 30,
   "id": "f1a0a346",
   "metadata": {},
   "outputs": [],
   "source": [
    "a = 6"
   ]
  },
  {
   "cell_type": "code",
   "execution_count": 31,
   "id": "eceb4580",
   "metadata": {},
   "outputs": [
    {
     "data": {
      "text/plain": [
       "6"
      ]
     },
     "execution_count": 31,
     "metadata": {},
     "output_type": "execute_result"
    }
   ],
   "source": [
    "a"
   ]
  },
  {
   "cell_type": "code",
   "execution_count": 32,
   "id": "2b0cc82e",
   "metadata": {},
   "outputs": [
    {
     "data": {
      "text/plain": [
       "2787945376208"
      ]
     },
     "execution_count": 32,
     "metadata": {},
     "output_type": "execute_result"
    }
   ],
   "source": [
    "id(a)"
   ]
  },
  {
   "cell_type": "code",
   "execution_count": 33,
   "id": "7f1075f5",
   "metadata": {},
   "outputs": [],
   "source": [
    "a = 7"
   ]
  },
  {
   "cell_type": "code",
   "execution_count": 34,
   "id": "1fa003b1",
   "metadata": {},
   "outputs": [],
   "source": [
    "b = float(a)"
   ]
  },
  {
   "cell_type": "code",
   "execution_count": 35,
   "id": "4efdb555",
   "metadata": {},
   "outputs": [
    {
     "data": {
      "text/plain": [
       "7.0"
      ]
     },
     "execution_count": 35,
     "metadata": {},
     "output_type": "execute_result"
    }
   ],
   "source": [
    "b"
   ]
  },
  {
   "cell_type": "code",
   "execution_count": 36,
   "id": "decb8eab",
   "metadata": {},
   "outputs": [],
   "source": [
    "c = 5.333"
   ]
  },
  {
   "cell_type": "code",
   "execution_count": 37,
   "id": "a6f4ee12",
   "metadata": {},
   "outputs": [],
   "source": [
    "d = int(c)"
   ]
  },
  {
   "cell_type": "code",
   "execution_count": 38,
   "id": "fc4de938",
   "metadata": {},
   "outputs": [
    {
     "data": {
      "text/plain": [
       "5"
      ]
     },
     "execution_count": 38,
     "metadata": {},
     "output_type": "execute_result"
    }
   ],
   "source": [
    "d"
   ]
  },
  {
   "cell_type": "code",
   "execution_count": 39,
   "id": "cdbd5823",
   "metadata": {},
   "outputs": [
    {
     "name": "stdout",
     "output_type": "stream",
     "text": [
      "Welcome to the course ofPython\n"
     ]
    }
   ],
   "source": [
    "lang = 'Python'\n",
    "greetings = \"Welcome to the course of\"\n",
    "message = greetings+lang\n",
    "print(message)"
   ]
  },
  {
   "cell_type": "code",
   "execution_count": 40,
   "id": "2df0bb75",
   "metadata": {},
   "outputs": [
    {
     "name": "stdout",
     "output_type": "stream",
     "text": [
      "Welcome to the course ofPython\n"
     ]
    }
   ],
   "source": [
    "print(greetings+lang)"
   ]
  },
  {
   "cell_type": "code",
   "execution_count": 41,
   "id": "42d34512",
   "metadata": {},
   "outputs": [
    {
     "name": "stdout",
     "output_type": "stream",
     "text": [
      "Welcome to the course of Python\n"
     ]
    }
   ],
   "source": [
    "print(greetings,lang)"
   ]
  },
  {
   "cell_type": "code",
   "execution_count": 42,
   "id": "2136c4a7",
   "metadata": {},
   "outputs": [
    {
     "name": "stdout",
     "output_type": "stream",
     "text": [
      "Learning \n",
      " Python\n"
     ]
    }
   ],
   "source": [
    "print('Learning \\n Python')"
   ]
  },
  {
   "cell_type": "code",
   "execution_count": 43,
   "id": "049be40b",
   "metadata": {},
   "outputs": [
    {
     "name": "stdout",
     "output_type": "stream",
     "text": [
      "Python Python Python Python Python \n"
     ]
    }
   ],
   "source": [
    "print('Python '*5)"
   ]
  },
  {
   "cell_type": "code",
   "execution_count": 44,
   "id": "523dd0b2",
   "metadata": {},
   "outputs": [
    {
     "name": "stdout",
     "output_type": "stream",
     "text": [
      "Python \n",
      "Python \n",
      "Python \n",
      "Python \n",
      "Python \n",
      "\n"
     ]
    }
   ],
   "source": [
    "print('Python \\n'*5)"
   ]
  },
  {
   "cell_type": "code",
   "execution_count": 45,
   "id": "5ab583f1",
   "metadata": {},
   "outputs": [],
   "source": [
    "s = 'Python'"
   ]
  },
  {
   "cell_type": "code",
   "execution_count": 46,
   "id": "dfa552be",
   "metadata": {},
   "outputs": [
    {
     "data": {
      "text/plain": [
       "'Python'"
      ]
     },
     "execution_count": 46,
     "metadata": {},
     "output_type": "execute_result"
    }
   ],
   "source": [
    "s"
   ]
  },
  {
   "cell_type": "code",
   "execution_count": 47,
   "id": "d65ff97e",
   "metadata": {},
   "outputs": [
    {
     "data": {
      "text/plain": [
       "'P'"
      ]
     },
     "execution_count": 47,
     "metadata": {},
     "output_type": "execute_result"
    }
   ],
   "source": [
    "s[0]"
   ]
  },
  {
   "cell_type": "code",
   "execution_count": 48,
   "id": "7de735ea",
   "metadata": {},
   "outputs": [
    {
     "data": {
      "text/plain": [
       "'y'"
      ]
     },
     "execution_count": 48,
     "metadata": {},
     "output_type": "execute_result"
    }
   ],
   "source": [
    "s[1]"
   ]
  },
  {
   "cell_type": "code",
   "execution_count": 49,
   "id": "6daeeb1e",
   "metadata": {},
   "outputs": [
    {
     "data": {
      "text/plain": [
       "'n'"
      ]
     },
     "execution_count": 49,
     "metadata": {},
     "output_type": "execute_result"
    }
   ],
   "source": [
    "s[-1]"
   ]
  },
  {
   "cell_type": "code",
   "execution_count": 50,
   "id": "b3953e71",
   "metadata": {},
   "outputs": [
    {
     "ename": "IndexError",
     "evalue": "string index out of range",
     "output_type": "error",
     "traceback": [
      "\u001b[1;31m---------------------------------------------------------------------------\u001b[0m",
      "\u001b[1;31mIndexError\u001b[0m                                Traceback (most recent call last)",
      "Input \u001b[1;32mIn [50]\u001b[0m, in \u001b[0;36m<cell line: 1>\u001b[1;34m()\u001b[0m\n\u001b[1;32m----> 1\u001b[0m \u001b[43ms\u001b[49m\u001b[43m[\u001b[49m\u001b[38;5;241;43m7\u001b[39;49m\u001b[43m]\u001b[49m\n",
      "\u001b[1;31mIndexError\u001b[0m: string index out of range"
     ]
    }
   ],
   "source": [
    "s[7]"
   ]
  },
  {
   "cell_type": "code",
   "execution_count": null,
   "id": "60eebb0f",
   "metadata": {},
   "outputs": [],
   "source": [
    "len(s)"
   ]
  },
  {
   "cell_type": "code",
   "execution_count": null,
   "id": "aa335203",
   "metadata": {},
   "outputs": [],
   "source": [
    "s[-len(s)]   "
   ]
  },
  {
   "cell_type": "code",
   "execution_count": null,
   "id": "0103a91a",
   "metadata": {},
   "outputs": [],
   "source": [
    "s[0:3]"
   ]
  },
  {
   "cell_type": "code",
   "execution_count": null,
   "id": "e4975fb2",
   "metadata": {},
   "outputs": [],
   "source": [
    "s[1:4]"
   ]
  },
  {
   "cell_type": "code",
   "execution_count": null,
   "id": "1957fd82",
   "metadata": {},
   "outputs": [],
   "source": [
    "s[:5]"
   ]
  },
  {
   "cell_type": "code",
   "execution_count": null,
   "id": "cb174be2",
   "metadata": {},
   "outputs": [],
   "source": [
    "s[3:]"
   ]
  },
  {
   "cell_type": "code",
   "execution_count": null,
   "id": "32656c8d",
   "metadata": {},
   "outputs": [],
   "source": [
    "s[-4:-1]"
   ]
  },
  {
   "cell_type": "code",
   "execution_count": null,
   "id": "a94ffea4",
   "metadata": {},
   "outputs": [],
   "source": [
    "s[0:5:2]"
   ]
  },
  {
   "cell_type": "code",
   "execution_count": null,
   "id": "986a347d",
   "metadata": {},
   "outputs": [],
   "source": [
    "s[-1:-4:-1]"
   ]
  },
  {
   "cell_type": "code",
   "execution_count": null,
   "id": "6de2e368",
   "metadata": {},
   "outputs": [],
   "source": [
    "type(s)"
   ]
  },
  {
   "cell_type": "code",
   "execution_count": null,
   "id": "163bdb8e",
   "metadata": {},
   "outputs": [],
   "source": [
    "word = 'Python programming'"
   ]
  },
  {
   "cell_type": "code",
   "execution_count": null,
   "id": "878a1681",
   "metadata": {},
   "outputs": [],
   "source": [
    "word.upper()"
   ]
  },
  {
   "cell_type": "code",
   "execution_count": null,
   "id": "c9e2f041",
   "metadata": {},
   "outputs": [],
   "source": [
    "word1 = word.lower()"
   ]
  },
  {
   "cell_type": "code",
   "execution_count": null,
   "id": "d9a0537f",
   "metadata": {},
   "outputs": [],
   "source": [
    "word1"
   ]
  },
  {
   "cell_type": "code",
   "execution_count": null,
   "id": "aa7325bf",
   "metadata": {},
   "outputs": [],
   "source": [
    "word1.capitalize()"
   ]
  },
  {
   "cell_type": "code",
   "execution_count": null,
   "id": "a1d06b80",
   "metadata": {},
   "outputs": [],
   "source": [
    "word.swapcase()"
   ]
  },
  {
   "cell_type": "code",
   "execution_count": null,
   "id": "c849b28f",
   "metadata": {},
   "outputs": [],
   "source": [
    "word"
   ]
  },
  {
   "cell_type": "code",
   "execution_count": null,
   "id": "e652da73",
   "metadata": {},
   "outputs": [],
   "source": [
    "type(True)"
   ]
  },
  {
   "cell_type": "code",
   "execution_count": null,
   "id": "4e782eac",
   "metadata": {},
   "outputs": [],
   "source": [
    "type(False)"
   ]
  },
  {
   "cell_type": "code",
   "execution_count": null,
   "id": "2fd90f8e",
   "metadata": {},
   "outputs": [],
   "source": [
    "bool(0)"
   ]
  },
  {
   "cell_type": "code",
   "execution_count": null,
   "id": "1326f973",
   "metadata": {},
   "outputs": [],
   "source": [
    "bool(1)"
   ]
  },
  {
   "cell_type": "code",
   "execution_count": null,
   "id": "f6f61db3",
   "metadata": {},
   "outputs": [],
   "source": [
    "int(True)"
   ]
  },
  {
   "cell_type": "code",
   "execution_count": null,
   "id": "4cc846cb",
   "metadata": {},
   "outputs": [],
   "source": [
    "float(True)"
   ]
  },
  {
   "cell_type": "code",
   "execution_count": null,
   "id": "9ed1c4f1",
   "metadata": {},
   "outputs": [],
   "source": [
    "int(False)"
   ]
  },
  {
   "cell_type": "code",
   "execution_count": null,
   "id": "e4e26ea7",
   "metadata": {},
   "outputs": [],
   "source": [
    "bool('Python')"
   ]
  },
  {
   "cell_type": "code",
   "execution_count": null,
   "id": "1625d362",
   "metadata": {},
   "outputs": [],
   "source": [
    "bool('')"
   ]
  },
  {
   "cell_type": "code",
   "execution_count": null,
   "id": "5313b67d",
   "metadata": {},
   "outputs": [],
   "source": [
    "bool(255.3)"
   ]
  },
  {
   "cell_type": "code",
   "execution_count": null,
   "id": "e816ca57",
   "metadata": {},
   "outputs": [],
   "source": [
    "bool()"
   ]
  },
  {
   "cell_type": "code",
   "execution_count": null,
   "id": "32ee8298",
   "metadata": {},
   "outputs": [],
   "source": [
    "name='maya'\n",
    "place='cochin'\n",
    "print(name,place)"
   ]
  },
  {
   "cell_type": "code",
   "execution_count": null,
   "id": "43addcce",
   "metadata": {},
   "outputs": [],
   "source": [
    "name = input()"
   ]
  },
  {
   "cell_type": "code",
   "execution_count": null,
   "id": "0afdbf90",
   "metadata": {},
   "outputs": [],
   "source": [
    "print(name)"
   ]
  },
  {
   "cell_type": "code",
   "execution_count": null,
   "id": "0a762d00",
   "metadata": {},
   "outputs": [],
   "source": [
    "name = input('Enter your name ')\n",
    "print('Your name is ',name)"
   ]
  },
  {
   "cell_type": "code",
   "execution_count": null,
   "id": "0e374bde",
   "metadata": {},
   "outputs": [],
   "source": [
    "name = input('enter name ')\n",
    "age = input('enter age ')\n",
    "print(name,age)"
   ]
  },
  {
   "cell_type": "code",
   "execution_count": null,
   "id": "ee471fa6",
   "metadata": {},
   "outputs": [],
   "source": [
    "a = input('enter first number')\n",
    "b = input('enter second number ')\n",
    "print(a+b)"
   ]
  },
  {
   "cell_type": "code",
   "execution_count": null,
   "id": "7787017b",
   "metadata": {},
   "outputs": [],
   "source": [
    "type(a)"
   ]
  },
  {
   "cell_type": "code",
   "execution_count": null,
   "id": "7ebdad3e",
   "metadata": {},
   "outputs": [],
   "source": [
    "type(b)"
   ]
  },
  {
   "cell_type": "code",
   "execution_count": null,
   "id": "68ba6ae8",
   "metadata": {},
   "outputs": [],
   "source": [
    "a = int(input('enter first number'))\n",
    "b = int(input('enter second number '))\n",
    "print(a+b)"
   ]
  },
  {
   "cell_type": "code",
   "execution_count": null,
   "id": "d9567f56",
   "metadata": {},
   "outputs": [],
   "source": []
  }
 ],
 "metadata": {
  "kernelspec": {
   "display_name": "Python 3 (ipykernel)",
   "language": "python",
   "name": "python3"
  },
  "language_info": {
   "codemirror_mode": {
    "name": "ipython",
    "version": 3
   },
   "file_extension": ".py",
   "mimetype": "text/x-python",
   "name": "python",
   "nbconvert_exporter": "python",
   "pygments_lexer": "ipython3",
   "version": "3.9.12"
  }
 },
 "nbformat": 4,
 "nbformat_minor": 5
}
